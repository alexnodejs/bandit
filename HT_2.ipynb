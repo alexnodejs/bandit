{
  "nbformat": 4,
  "nbformat_minor": 0,
  "metadata": {
    "colab": {
      "provenance": [],
      "toc_visible": true,
      "include_colab_link": true
    },
    "kernelspec": {
      "name": "python3",
      "display_name": "Python 3"
    },
    "language_info": {
      "name": "python"
    }
  },
  "cells": [
    {
      "cell_type": "markdown",
      "metadata": {
        "id": "view-in-github",
        "colab_type": "text"
      },
      "source": [
        "<a href=\"https://colab.research.google.com/github/alexnodejs/bandit/blob/main/HT_2.ipynb\" target=\"_parent\"><img src=\"https://colab.research.google.com/assets/colab-badge.svg\" alt=\"Open In Colab\"/></a>"
      ]
    },
    {
      "cell_type": "markdown",
      "source": [
        "Імпортуйте модуль numpy"
      ],
      "metadata": {
        "id": "tk2sNnUDkXK9"
      }
    },
    {
      "cell_type": "code",
      "source": [
        "import numpy as np"
      ],
      "metadata": {
        "id": "1QbCsQ62kUmZ"
      },
      "execution_count": 1,
      "outputs": []
    },
    {
      "cell_type": "markdown",
      "source": [
        "#Завдання 1\n",
        "\n",
        "Створіть масив з парними числами між 30 і 70"
      ],
      "metadata": {
        "id": "ZVC4Yb3JZFO1"
      }
    },
    {
      "cell_type": "code",
      "source": [
        "even = np.arange(30, 71, 2)\n",
        "even"
      ],
      "metadata": {
        "id": "aunm4Jm_hUkL",
        "outputId": "0464581e-243e-4fd9-e813-5af940921fb3",
        "colab": {
          "base_uri": "https://localhost:8080/"
        }
      },
      "execution_count": 3,
      "outputs": [
        {
          "output_type": "execute_result",
          "data": {
            "text/plain": [
              "array([30, 32, 34, 36, 38, 40, 42, 44, 46, 48, 50, 52, 54, 56, 58, 60, 62,\n",
              "       64, 66, 68, 70])"
            ]
          },
          "metadata": {},
          "execution_count": 3
        }
      ]
    },
    {
      "cell_type": "markdown",
      "source": [
        "#Завдання 2\n",
        "Створіть масив з 10 числами між 0(включно) та 1(не включно) див документацію"
      ],
      "metadata": {
        "id": "UDSLr3f0b31r"
      }
    },
    {
      "cell_type": "code",
      "source": [
        "arr_10 = np.random.randint(0, 1, 10)\n",
        "arr_10"
      ],
      "metadata": {
        "id": "w7iNkGd_hUM-",
        "outputId": "3b34825d-306d-4cd0-acf8-f95026ec840c",
        "colab": {
          "base_uri": "https://localhost:8080/"
        }
      },
      "execution_count": 4,
      "outputs": [
        {
          "output_type": "execute_result",
          "data": {
            "text/plain": [
              "array([0, 0, 0, 0, 0, 0, 0, 0, 0, 0])"
            ]
          },
          "metadata": {},
          "execution_count": 4
        }
      ]
    },
    {
      "cell_type": "markdown",
      "source": [
        "#Завдання 4\n",
        "Напишіть функцію яка приймає матрицю розміру nxn та повертає матрицю розміру (n+2) x (n+2), на краях якої розміщенні 0."
      ],
      "metadata": {
        "id": "rtWKmLWhYi_j"
      }
    },
    {
      "cell_type": "code",
      "source": [
        "n = 4\n",
        "arr_x2 = np.random.randint(1, 10, (n+2, n+2))\n",
        "arr_x2\n",
        "\n",
        "a = np.hstack((np.zeros((arr_x2.shape[0], 1)), arr_x2, np.zeros((arr_x2.shape[0], 1))))\n",
        "array = np.vstack((np.zeros((1, a.shape[1])), a, np.zeros((1, a.shape[1]))))\n",
        "array"
      ],
      "metadata": {
        "id": "mU7vjsnqhVfk",
        "colab": {
          "base_uri": "https://localhost:8080/"
        },
        "outputId": "ef6d94cf-4dac-4405-abe3-a54ba48a9e6a"
      },
      "execution_count": 7,
      "outputs": [
        {
          "output_type": "execute_result",
          "data": {
            "text/plain": [
              "array([[0., 0., 0., 0., 0., 0., 0., 0.],\n",
              "       [0., 8., 6., 2., 5., 6., 8., 0.],\n",
              "       [0., 8., 5., 2., 8., 6., 5., 0.],\n",
              "       [0., 6., 1., 8., 9., 1., 3., 0.],\n",
              "       [0., 5., 4., 7., 8., 8., 5., 0.],\n",
              "       [0., 5., 5., 4., 5., 9., 6., 0.],\n",
              "       [0., 8., 2., 5., 4., 1., 6., 0.],\n",
              "       [0., 0., 0., 0., 0., 0., 0., 0.]])"
            ]
          },
          "metadata": {},
          "execution_count": 7
        }
      ]
    },
    {
      "cell_type": "markdown",
      "source": [
        "#Завдання 5\n",
        "У попередьньому масиві змініть тип даних. Виведіть тип даних до та після зміни"
      ],
      "metadata": {
        "id": "ok_hMAEJa9oh"
      }
    },
    {
      "cell_type": "code",
      "source": [
        "print('Before Type:', array.dtype)\n",
        "array_updated_type = array.astype(np.int32, copy=False)\n",
        "print(array_updated_type)\n",
        "print('After Type:', array.dtype)"
      ],
      "metadata": {
        "id": "vYlj3r3ShV98",
        "outputId": "129ee770-68b9-47e1-a75f-eac9f82ae54a",
        "colab": {
          "base_uri": "https://localhost:8080/"
        }
      },
      "execution_count": 8,
      "outputs": [
        {
          "output_type": "stream",
          "name": "stdout",
          "text": [
            "Before Type: float64\n",
            "[[0 0 0 0 0 0 0 0]\n",
            " [0 8 6 2 5 6 8 0]\n",
            " [0 8 5 2 8 6 5 0]\n",
            " [0 6 1 8 9 1 3 0]\n",
            " [0 5 4 7 8 8 5 0]\n",
            " [0 5 5 4 5 9 6 0]\n",
            " [0 8 2 5 4 1 6 0]\n",
            " [0 0 0 0 0 0 0 0]]\n",
            "After Type: float64\n"
          ]
        }
      ]
    },
    {
      "cell_type": "markdown",
      "source": [
        "#Завдання 6\n",
        "У даному масиві замініть елементи, які дорівнюють\\більші\\менші за var на -1"
      ],
      "metadata": {
        "id": "aR7TWyqgZUDg"
      }
    },
    {
      "cell_type": "code",
      "source": [
        "x = np.array([1, 5, 3, 8, 6, 5, 7, 4])\n",
        "var = 2\n",
        "\n",
        "x_replaced = np.where(x == var, -1, np.where(x > var, -1, -1))\n",
        "x_replaced"
      ],
      "metadata": {
        "id": "oPzL69Fbg2Wq",
        "outputId": "d2b20d27-40ed-4733-e69f-4cfd777d0093",
        "colab": {
          "base_uri": "https://localhost:8080/"
        }
      },
      "execution_count": 11,
      "outputs": [
        {
          "output_type": "execute_result",
          "data": {
            "text/plain": [
              "array([-1, -1, -1, -1, -1, -1, -1, -1])"
            ]
          },
          "metadata": {},
          "execution_count": 11
        }
      ]
    },
    {
      "cell_type": "markdown",
      "source": [
        "#Завдання 7\n",
        "Замініть пропущені значення матриці(np.nan) на -1\n",
        "\n",
        "Дивись np.isnan"
      ],
      "metadata": {
        "id": "Ks3Rtc7kajMJ"
      }
    },
    {
      "cell_type": "code",
      "source": [
        "X = np.array([[1, 2, np.nan, 4],\n",
        "              [5, np.nan, np.nan, 4],\n",
        "              [np.nan, 10, 11, np.nan]])\n",
        "X[np.isnan(X)] = -1\n",
        "\n",
        "X"
      ],
      "metadata": {
        "id": "Rr8CdINEg3Rj",
        "outputId": "c89dfa42-711a-40ae-892a-a7178689ffd6",
        "colab": {
          "base_uri": "https://localhost:8080/"
        }
      },
      "execution_count": 13,
      "outputs": [
        {
          "output_type": "execute_result",
          "data": {
            "text/plain": [
              "array([[ 1.,  2., -1.,  4.],\n",
              "       [ 5., -1., -1.,  4.],\n",
              "       [-1., 10., 11., -1.]])"
            ]
          },
          "metadata": {},
          "execution_count": 13
        }
      ]
    },
    {
      "cell_type": "markdown",
      "source": [
        "#Завдання 8\n",
        "Створіть матрицю розміру 4х6 з випадковими числами. Змініть її розмір на 3х8"
      ],
      "metadata": {
        "id": "teYwjikMa0gs"
      }
    },
    {
      "cell_type": "code",
      "source": [
        "import numpy as np\n",
        "X = np.random.rand(4, 6)\n",
        "X.reshape((3, 8))"
      ],
      "metadata": {
        "id": "JhNvUJwxhXED",
        "outputId": "ba86393b-039b-459c-fc59-4e592b802c09",
        "colab": {
          "base_uri": "https://localhost:8080/"
        }
      },
      "execution_count": 15,
      "outputs": [
        {
          "output_type": "execute_result",
          "data": {
            "text/plain": [
              "array([[0.56898625, 0.53051343, 0.83146404, 0.65279329, 0.0514913 ,\n",
              "        0.95819168, 0.34912693, 0.90561939],\n",
              "       [0.45838548, 0.52532658, 0.23770117, 0.33379321, 0.14194338,\n",
              "        0.57851496, 0.20186859, 0.81921037],\n",
              "       [0.80167249, 0.83183446, 0.29600944, 0.4843801 , 0.37292398,\n",
              "        0.24272196, 0.22138861, 0.52177939]])"
            ]
          },
          "metadata": {},
          "execution_count": 15
        }
      ]
    },
    {
      "cell_type": "markdown",
      "source": [
        "#Завдання 9\n",
        "Створіть матрицю з одиниць розміром 3х4. Знайдіть середнє арифметичне(mean) кожного стовпчика"
      ],
      "metadata": {
        "id": "jVE8280acszi"
      }
    },
    {
      "cell_type": "code",
      "source": [
        "\n",
        "arr_3_4 = np.random.rand(3, 4)\n",
        "arr_3_4\n",
        "\n",
        "mean_per_column = np.mean(arr_3_4, axis=0)\n",
        "mean_per_column"
      ],
      "metadata": {
        "id": "5QI6HPNHhXd4",
        "outputId": "1be75b10-f29f-4102-e81e-9cf0ec1a3d0b",
        "colab": {
          "base_uri": "https://localhost:8080/"
        }
      },
      "execution_count": 16,
      "outputs": [
        {
          "output_type": "execute_result",
          "data": {
            "text/plain": [
              "array([0.6874587 , 0.38994093, 0.32841983, 0.78717317])"
            ]
          },
          "metadata": {},
          "execution_count": 16
        }
      ]
    },
    {
      "cell_type": "markdown",
      "source": [
        "#Завдання 10\n",
        "Створіть випадкову матрицю розміром 5х6. Округліть значення до одного знаку після коми(np.round). Розмістіть стовпчики так, щоб значення в першому рядку були відсортовані за зростанням"
      ],
      "metadata": {
        "id": "nK6LwLjfc9aC"
      }
    },
    {
      "cell_type": "code",
      "source": [
        "import numpy as np\n",
        "\n",
        "matrix = np.random.random((5, 6))\n",
        "\n",
        "matrix_rounded = np.around(matrix, decimals=1)\n",
        "sorted_matrix = matrix_rounded[:, matrix_rounded[0, :].argsort()]\n",
        "sorted_matrix\n"
      ],
      "metadata": {
        "id": "pERBNp12hX58",
        "outputId": "3541681e-ceb8-44ca-d738-74a85895a808",
        "colab": {
          "base_uri": "https://localhost:8080/"
        }
      },
      "execution_count": 17,
      "outputs": [
        {
          "output_type": "execute_result",
          "data": {
            "text/plain": [
              "array([[0.3, 0.4, 0.5, 0.5, 0.7, 0.8],\n",
              "       [0.4, 0.3, 0.6, 0.9, 0.4, 0.4],\n",
              "       [0.1, 0.8, 0.3, 0.1, 0.9, 0.4],\n",
              "       [0.9, 0.7, 0.6, 0.7, 0.3, 0.2],\n",
              "       [0.3, 0.1, 0. , 0.1, 0.2, 0. ]])"
            ]
          },
          "metadata": {},
          "execution_count": 17
        }
      ]
    },
    {
      "cell_type": "markdown",
      "source": [
        "#Завдання 11\n",
        "В даній матриці знайдіть всі елементи зі значенням між 3 і 6\n",
        "\n",
        "Дивись документацію np.logical_and"
      ],
      "metadata": {
        "id": "faCqq4bxiXsg"
      }
    },
    {
      "cell_type": "code",
      "source": [
        "X = np.array([[1, 2, 3, 4, 5],\n",
        "              [6, 7, 8, 9, 10],\n",
        "              [9, 8, 7, 6, 5],\n",
        "              [4, 3, 2, 1, 0]])\n",
        "X[(3 < X) & (X < 6 )]"
      ],
      "metadata": {
        "id": "01ZY_c-tilOF",
        "outputId": "2e1a5ff4-62ba-4745-ed06-698a3492d82e",
        "colab": {
          "base_uri": "https://localhost:8080/"
        }
      },
      "execution_count": 20,
      "outputs": [
        {
          "output_type": "execute_result",
          "data": {
            "text/plain": [
              "array([4, 5, 5, 4])"
            ]
          },
          "metadata": {},
          "execution_count": 20
        }
      ]
    },
    {
      "cell_type": "markdown",
      "source": [
        "#Завдання 12\n",
        "Створіть випадкову матрицю розміру 5х6. Нормалізуйте стовпчики: від кожного елемента ставпчика відніміть мінімальне значення та поділіть результат на різницю між максимальним та мінімальним елементом цього стовпчика.\n",
        "\n",
        "Після цього всі значення мають бути в межах [0, 1]"
      ],
      "metadata": {
        "id": "cCZSaa3DMKxb"
      }
    },
    {
      "cell_type": "code",
      "source": [
        "X = np.random.random((5, 6))\n",
        "\n",
        "X_normalized = (X  - X.min(axis=0)) / (X.max(axis=0) - X.min(axis=0))\n",
        "\n",
        "print(X_normalized)"
      ],
      "metadata": {
        "id": "qnOYOAgOMqRi",
        "outputId": "2c51d5f7-81d0-4a6d-be0a-5aca1f986f96",
        "colab": {
          "base_uri": "https://localhost:8080/"
        }
      },
      "execution_count": 22,
      "outputs": [
        {
          "output_type": "stream",
          "name": "stdout",
          "text": [
            "[[0.16067554 0.         1.         0.10315306 0.30089204 0.        ]\n",
            " [1.         0.73811461 0.92092894 0.51416343 0.03990278 1.        ]\n",
            " [0.53667119 1.         0.78179652 0.9802976  1.         0.34301292]\n",
            " [0.         0.46815161 0.6384397  0.         0.29377965 0.41969642]\n",
            " [0.46659774 0.08300564 0.         1.         0.         0.83355477]]\n"
          ]
        }
      ]
    }
  ]
}