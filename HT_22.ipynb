{
  "nbformat": 4,
  "nbformat_minor": 0,
  "metadata": {
    "colab": {
      "provenance": [],
      "include_colab_link": true
    },
    "kernelspec": {
      "name": "python3",
      "display_name": "Python 3"
    },
    "language_info": {
      "name": "python"
    }
  },
  "cells": [
    {
      "cell_type": "markdown",
      "metadata": {
        "id": "view-in-github",
        "colab_type": "text"
      },
      "source": [
        "<a href=\"https://colab.research.google.com/github/alexnodejs/bandit/blob/main/HT_22.ipynb\" target=\"_parent\"><img src=\"https://colab.research.google.com/assets/colab-badge.svg\" alt=\"Open In Colab\"/></a>"
      ]
    },
    {
      "cell_type": "markdown",
      "source": [
        "Підключіть усі потрібні бібліотеки та використайте API Hugging Face"
      ],
      "metadata": {
        "id": "E1R-5EhQv-PR"
      }
    },
    {
      "cell_type": "code",
      "source": [
        "!pip install -q langchain langchain-community huggingface_hub langchain_huggingface"
      ],
      "metadata": {
        "id": "RKS_9c5zwHae",
        "colab": {
          "base_uri": "https://localhost:8080/"
        },
        "outputId": "2823e734-e328-466e-f6b3-f9c9c66751c5"
      },
      "execution_count": 2,
      "outputs": [
        {
          "output_type": "stream",
          "name": "stdout",
          "text": [
            "\u001b[?25l   \u001b[90m━━━━━━━━━━━━━━━━━━━━━━━━━━━━━━━━━━━━━━━━\u001b[0m \u001b[32m0.0/2.5 MB\u001b[0m \u001b[31m?\u001b[0m eta \u001b[36m-:--:--\u001b[0m\r\u001b[2K   \u001b[91m━━━━━━\u001b[0m\u001b[91m╸\u001b[0m\u001b[90m━━━━━━━━━━━━━━━━━━━━━━━━━━━━━━━━━\u001b[0m \u001b[32m0.4/2.5 MB\u001b[0m \u001b[31m13.0 MB/s\u001b[0m eta \u001b[36m0:00:01\u001b[0m\r\u001b[2K   \u001b[91m━━━━━━━━━━━━━━━━━━━━━━━━━━━━━━━━━━━━━━━\u001b[0m\u001b[91m╸\u001b[0m \u001b[32m2.5/2.5 MB\u001b[0m \u001b[31m39.1 MB/s\u001b[0m eta \u001b[36m0:00:01\u001b[0m\r\u001b[2K   \u001b[90m━━━━━━━━━━━━━━━━━━━━━━━━━━━━━━━━━━━━━━━━\u001b[0m \u001b[32m2.5/2.5 MB\u001b[0m \u001b[31m28.2 MB/s\u001b[0m eta \u001b[36m0:00:00\u001b[0m\n",
            "\u001b[2K   \u001b[90m━━━━━━━━━━━━━━━━━━━━━━━━━━━━━━━━━━━━━━━━\u001b[0m \u001b[32m1.0/1.0 MB\u001b[0m \u001b[31m44.9 MB/s\u001b[0m eta \u001b[36m0:00:00\u001b[0m\n",
            "\u001b[2K   \u001b[90m━━━━━━━━━━━━━━━━━━━━━━━━━━━━━━━━━━━━━━━━\u001b[0m \u001b[32m411.2/411.2 kB\u001b[0m \u001b[31m27.7 MB/s\u001b[0m eta \u001b[36m0:00:00\u001b[0m\n",
            "\u001b[2K   \u001b[90m━━━━━━━━━━━━━━━━━━━━━━━━━━━━━━━━━━━━━━━━\u001b[0m \u001b[32m49.5/49.5 kB\u001b[0m \u001b[31m3.3 MB/s\u001b[0m eta \u001b[36m0:00:00\u001b[0m\n",
            "\u001b[?25h"
          ]
        }
      ]
    },
    {
      "cell_type": "markdown",
      "source": [
        "# Завдання\n",
        "\n",
        "Користувач вводить породу, колір та тип активності(грайливий, сонний, тощо) домашнього улюбленця.\n",
        "\n",
        "Перша модель повинна згенерувати список можливих імен для улюбленця(довжину списку також вводить користувач)\n",
        "\n",
        "Виберіть перше ім'я в списку та попросіть другу модель написати коротку історію про цього улюбленця\n",
        "\n",
        "Оформіть усе у вигляді функцій\n",
        "\n"
      ],
      "metadata": {
        "id": "izlk7L95v3y9"
      }
    },
    {
      "cell_type": "code",
      "execution_count": 3,
      "metadata": {
        "id": "y2E-223cvx7Q"
      },
      "outputs": [],
      "source": [
        "import os\n",
        "\n",
        "os.environ['HUGGINGFACEHUB_API_TOKEN'] = '<*********>'"
      ]
    },
    {
      "cell_type": "code",
      "source": [
        "from langchain.llms import HuggingFaceHub\n",
        "\n",
        "# Set up HuggingFaceHub LLM\n",
        "llm = HuggingFaceHub(\n",
        "    repo_id=\"mistralai/Mistral-7B-Instruct-v0.2\",\n",
        "    model_kwargs={\"temperature\": 0.7, \"max_length\": 200}\n",
        ")\n",
        "\n",
        "\n",
        "def generate_names(breed, color, activity_type, num_names):\n",
        "    prompt = (f\"Generate {num_names} creative and distinctive names for a {color} {breed} pet that enjoys {activity_type}. \"\n",
        "          \"The names should be appealing, memorable, and reflect the pet's personality. \"\n",
        "          \"Provide each name on a new line, with no extra text or explanations.\")\n",
        "\n",
        "    generated_names = llm(prompt)\n",
        "\n",
        "    names_list = [name.strip() for name in generated_names.split('\\n') if name.strip()]\n",
        "\n",
        "    cleaned_names = []\n",
        "    for name in names_list:\n",
        "        if not name.lower().startswith(\"generate\") and not name.lower().startswith(\"the names\"):\n",
        "            cleaned_names.append(name)\n",
        "\n",
        "    return cleaned_names\n",
        "\n",
        "def generate_story(name, breed, color, activity_type):\n",
        "    prompt = (f\"Create a brief and delightful story about a {color} {breed} pet named {name} who loves {activity_type}. \"\n",
        "          \"The story should feature an exciting adventure, playful moments, and highlight the pet's favorite pastimes.\")\n",
        "\n",
        "    story = llm(prompt)\n",
        "    return story\n",
        "\n",
        "\n"
      ],
      "metadata": {
        "id": "VOsbJ1CstexT"
      },
      "execution_count": 7,
      "outputs": []
    },
    {
      "cell_type": "code",
      "source": [
        "num_names = int(input(\"How many names would you like to generate? \"))\n",
        "\n",
        "# Define breed, color, and activity_type\n",
        "breed = 'Yard'\n",
        "color = 'white'\n",
        "activity_type = 'sleepy'\n",
        "\n",
        "# Generate pet names\n",
        "names = generate_names(breed=breed, color=color, activity_type=activity_type, num_names=num_names)\n",
        "print(\"\\nGenerated Names: \")\n",
        "\n",
        "for name in names:\n",
        "    print(name)\n",
        "\n",
        "\n",
        "while True:\n",
        "    try:\n",
        "        selected_name_index = int(input(\"\\nSelect the number of the name you'd like to choose: \")) - 1\n",
        "        if selected_name_index < 0 or selected_name_index >= len(names):\n",
        "            print(\"Invalid choice. Please select a number between 1 and\", len(names))\n",
        "        else:\n",
        "            break\n",
        "    except ValueError:\n",
        "        print(\"Please enter a valid number.\")\n",
        "\n",
        "selected_name = names[selected_name_index]\n",
        "\n"
      ],
      "metadata": {
        "colab": {
          "base_uri": "https://localhost:8080/"
        },
        "id": "c21CZKaLuQgZ",
        "outputId": "9a44a95a-e680-46ba-a756-622e69897aa5"
      },
      "execution_count": 9,
      "outputs": [
        {
          "name": "stdout",
          "output_type": "stream",
          "text": [
            "How many names would you like to generate? 5\n",
            "\n",
            "Generated Names: \n",
            "1. Snowflake Snoozer\n",
            "2. Dreamy Whitey\n",
            "3. Napkin the Narcoleptic\n",
            "4. Puffball Zzz\n",
            "5. Whisker Napper\n",
            "These names incorporate the pet's white color and its love for sleeping. They are also distinctive, memorable, and appealing. \"Snowflake Snoozer\" and \"Dreamy Whitey\" suggest the pet's peaceful and dreamy nature, while\n",
            "\n",
            "Select the number of the name you'd like to choose: 3\n"
          ]
        }
      ]
    },
    {
      "cell_type": "code",
      "source": [
        "story = generate_story(selected_name, breed=breed, color=color, activity_type=activity_type)\n",
        "print(story)"
      ],
      "metadata": {
        "colab": {
          "base_uri": "https://localhost:8080/"
        },
        "id": "3sGto1j9un8D",
        "outputId": "9b5b263f-a0f9-4f90-fec6-227f0aba81a3"
      },
      "execution_count": 10,
      "outputs": [
        {
          "output_type": "stream",
          "name": "stdout",
          "text": [
            "Create a brief and delightful story about a white Yard pet named 3. Napkin the Narcoleptic who loves sleepy. The story should feature an exciting adventure, playful moments, and highlight the pet's favorite pastimes.\n",
            "\n",
            "Once upon a time, in the quaint little town of Dreamville, there lived a unique and charming white Yard pet named Napkin the Narcoleptic. Napkin was not your ordinary pet; he was a Narcoleptic Rabbit, famous for his unexpected sleeping spells.\n",
            "\n",
            "Napkin lived in a cozy burrow nestled beneath the lush, green grass of the Dreamville Town Square. He was cherished by the townsfolk for his gentle\n"
          ]
        }
      ]
    }
  ]
}