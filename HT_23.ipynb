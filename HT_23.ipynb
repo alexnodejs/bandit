{
  "nbformat": 4,
  "nbformat_minor": 0,
  "metadata": {
    "colab": {
      "provenance": [],
      "include_colab_link": true
    },
    "kernelspec": {
      "name": "python3",
      "display_name": "Python 3"
    },
    "language_info": {
      "name": "python"
    }
  },
  "cells": [
    {
      "cell_type": "markdown",
      "metadata": {
        "id": "view-in-github",
        "colab_type": "text"
      },
      "source": [
        "<a href=\"https://colab.research.google.com/github/alexnodejs/bandit/blob/main/HT_23.ipynb\" target=\"_parent\"><img src=\"https://colab.research.google.com/assets/colab-badge.svg\" alt=\"Open In Colab\"/></a>"
      ]
    },
    {
      "cell_type": "markdown",
      "source": [
        "# Завдання\n",
        "\n",
        "* Створіть Reader\n",
        "* Створіть датасет та розділіть його на тренувальні та тестові дані\n",
        "* Виберіть метрики для поріняння якості моделей\n",
        "* На основі метрик виберіть найкращу модель\n",
        "\n"
      ],
      "metadata": {
        "id": "cpuh9s2eYX3v"
      }
    },
    {
      "cell_type": "code",
      "execution_count": 1,
      "metadata": {
        "colab": {
          "base_uri": "https://localhost:8080/",
          "height": 206
        },
        "id": "wIK2PWg8YMIs",
        "outputId": "6143b026-48db-492b-e4cf-cddc47aaf438"
      },
      "outputs": [
        {
          "output_type": "execute_result",
          "data": {
            "text/plain": [
              "   user_id  movie_id  rating   timestamp\n",
              "0      172     94969     5.0  1396067836\n",
              "1      172     98956     4.0  1396067879\n",
              "2      176     73881     4.0  1499807147\n",
              "3      221      1900     4.5  1288550866\n",
              "4      333     33688     4.0  1412015122"
            ],
            "text/html": [
              "\n",
              "  <div id=\"df-5aeb2f4b-5f93-41fe-8c06-dfa54c2a63ae\" class=\"colab-df-container\">\n",
              "    <div>\n",
              "<style scoped>\n",
              "    .dataframe tbody tr th:only-of-type {\n",
              "        vertical-align: middle;\n",
              "    }\n",
              "\n",
              "    .dataframe tbody tr th {\n",
              "        vertical-align: top;\n",
              "    }\n",
              "\n",
              "    .dataframe thead th {\n",
              "        text-align: right;\n",
              "    }\n",
              "</style>\n",
              "<table border=\"1\" class=\"dataframe\">\n",
              "  <thead>\n",
              "    <tr style=\"text-align: right;\">\n",
              "      <th></th>\n",
              "      <th>user_id</th>\n",
              "      <th>movie_id</th>\n",
              "      <th>rating</th>\n",
              "      <th>timestamp</th>\n",
              "    </tr>\n",
              "  </thead>\n",
              "  <tbody>\n",
              "    <tr>\n",
              "      <th>0</th>\n",
              "      <td>172</td>\n",
              "      <td>94969</td>\n",
              "      <td>5.0</td>\n",
              "      <td>1396067836</td>\n",
              "    </tr>\n",
              "    <tr>\n",
              "      <th>1</th>\n",
              "      <td>172</td>\n",
              "      <td>98956</td>\n",
              "      <td>4.0</td>\n",
              "      <td>1396067879</td>\n",
              "    </tr>\n",
              "    <tr>\n",
              "      <th>2</th>\n",
              "      <td>176</td>\n",
              "      <td>73881</td>\n",
              "      <td>4.0</td>\n",
              "      <td>1499807147</td>\n",
              "    </tr>\n",
              "    <tr>\n",
              "      <th>3</th>\n",
              "      <td>221</td>\n",
              "      <td>1900</td>\n",
              "      <td>4.5</td>\n",
              "      <td>1288550866</td>\n",
              "    </tr>\n",
              "    <tr>\n",
              "      <th>4</th>\n",
              "      <td>333</td>\n",
              "      <td>33688</td>\n",
              "      <td>4.0</td>\n",
              "      <td>1412015122</td>\n",
              "    </tr>\n",
              "  </tbody>\n",
              "</table>\n",
              "</div>\n",
              "    <div class=\"colab-df-buttons\">\n",
              "\n",
              "  <div class=\"colab-df-container\">\n",
              "    <button class=\"colab-df-convert\" onclick=\"convertToInteractive('df-5aeb2f4b-5f93-41fe-8c06-dfa54c2a63ae')\"\n",
              "            title=\"Convert this dataframe to an interactive table.\"\n",
              "            style=\"display:none;\">\n",
              "\n",
              "  <svg xmlns=\"http://www.w3.org/2000/svg\" height=\"24px\" viewBox=\"0 -960 960 960\">\n",
              "    <path d=\"M120-120v-720h720v720H120Zm60-500h600v-160H180v160Zm220 220h160v-160H400v160Zm0 220h160v-160H400v160ZM180-400h160v-160H180v160Zm440 0h160v-160H620v160ZM180-180h160v-160H180v160Zm440 0h160v-160H620v160Z\"/>\n",
              "  </svg>\n",
              "    </button>\n",
              "\n",
              "  <style>\n",
              "    .colab-df-container {\n",
              "      display:flex;\n",
              "      gap: 12px;\n",
              "    }\n",
              "\n",
              "    .colab-df-convert {\n",
              "      background-color: #E8F0FE;\n",
              "      border: none;\n",
              "      border-radius: 50%;\n",
              "      cursor: pointer;\n",
              "      display: none;\n",
              "      fill: #1967D2;\n",
              "      height: 32px;\n",
              "      padding: 0 0 0 0;\n",
              "      width: 32px;\n",
              "    }\n",
              "\n",
              "    .colab-df-convert:hover {\n",
              "      background-color: #E2EBFA;\n",
              "      box-shadow: 0px 1px 2px rgba(60, 64, 67, 0.3), 0px 1px 3px 1px rgba(60, 64, 67, 0.15);\n",
              "      fill: #174EA6;\n",
              "    }\n",
              "\n",
              "    .colab-df-buttons div {\n",
              "      margin-bottom: 4px;\n",
              "    }\n",
              "\n",
              "    [theme=dark] .colab-df-convert {\n",
              "      background-color: #3B4455;\n",
              "      fill: #D2E3FC;\n",
              "    }\n",
              "\n",
              "    [theme=dark] .colab-df-convert:hover {\n",
              "      background-color: #434B5C;\n",
              "      box-shadow: 0px 1px 3px 1px rgba(0, 0, 0, 0.15);\n",
              "      filter: drop-shadow(0px 1px 2px rgba(0, 0, 0, 0.3));\n",
              "      fill: #FFFFFF;\n",
              "    }\n",
              "  </style>\n",
              "\n",
              "    <script>\n",
              "      const buttonEl =\n",
              "        document.querySelector('#df-5aeb2f4b-5f93-41fe-8c06-dfa54c2a63ae button.colab-df-convert');\n",
              "      buttonEl.style.display =\n",
              "        google.colab.kernel.accessAllowed ? 'block' : 'none';\n",
              "\n",
              "      async function convertToInteractive(key) {\n",
              "        const element = document.querySelector('#df-5aeb2f4b-5f93-41fe-8c06-dfa54c2a63ae');\n",
              "        const dataTable =\n",
              "          await google.colab.kernel.invokeFunction('convertToInteractive',\n",
              "                                                    [key], {});\n",
              "        if (!dataTable) return;\n",
              "\n",
              "        const docLinkHtml = 'Like what you see? Visit the ' +\n",
              "          '<a target=\"_blank\" href=https://colab.research.google.com/notebooks/data_table.ipynb>data table notebook</a>'\n",
              "          + ' to learn more about interactive tables.';\n",
              "        element.innerHTML = '';\n",
              "        dataTable['output_type'] = 'display_data';\n",
              "        await google.colab.output.renderOutput(dataTable, element);\n",
              "        const docLink = document.createElement('div');\n",
              "        docLink.innerHTML = docLinkHtml;\n",
              "        element.appendChild(docLink);\n",
              "      }\n",
              "    </script>\n",
              "  </div>\n",
              "\n",
              "\n",
              "<div id=\"df-ee157694-c308-4b3a-97c6-9060857a35df\">\n",
              "  <button class=\"colab-df-quickchart\" onclick=\"quickchart('df-ee157694-c308-4b3a-97c6-9060857a35df')\"\n",
              "            title=\"Suggest charts\"\n",
              "            style=\"display:none;\">\n",
              "\n",
              "<svg xmlns=\"http://www.w3.org/2000/svg\" height=\"24px\"viewBox=\"0 0 24 24\"\n",
              "     width=\"24px\">\n",
              "    <g>\n",
              "        <path d=\"M19 3H5c-1.1 0-2 .9-2 2v14c0 1.1.9 2 2 2h14c1.1 0 2-.9 2-2V5c0-1.1-.9-2-2-2zM9 17H7v-7h2v7zm4 0h-2V7h2v10zm4 0h-2v-4h2v4z\"/>\n",
              "    </g>\n",
              "</svg>\n",
              "  </button>\n",
              "\n",
              "<style>\n",
              "  .colab-df-quickchart {\n",
              "      --bg-color: #E8F0FE;\n",
              "      --fill-color: #1967D2;\n",
              "      --hover-bg-color: #E2EBFA;\n",
              "      --hover-fill-color: #174EA6;\n",
              "      --disabled-fill-color: #AAA;\n",
              "      --disabled-bg-color: #DDD;\n",
              "  }\n",
              "\n",
              "  [theme=dark] .colab-df-quickchart {\n",
              "      --bg-color: #3B4455;\n",
              "      --fill-color: #D2E3FC;\n",
              "      --hover-bg-color: #434B5C;\n",
              "      --hover-fill-color: #FFFFFF;\n",
              "      --disabled-bg-color: #3B4455;\n",
              "      --disabled-fill-color: #666;\n",
              "  }\n",
              "\n",
              "  .colab-df-quickchart {\n",
              "    background-color: var(--bg-color);\n",
              "    border: none;\n",
              "    border-radius: 50%;\n",
              "    cursor: pointer;\n",
              "    display: none;\n",
              "    fill: var(--fill-color);\n",
              "    height: 32px;\n",
              "    padding: 0;\n",
              "    width: 32px;\n",
              "  }\n",
              "\n",
              "  .colab-df-quickchart:hover {\n",
              "    background-color: var(--hover-bg-color);\n",
              "    box-shadow: 0 1px 2px rgba(60, 64, 67, 0.3), 0 1px 3px 1px rgba(60, 64, 67, 0.15);\n",
              "    fill: var(--button-hover-fill-color);\n",
              "  }\n",
              "\n",
              "  .colab-df-quickchart-complete:disabled,\n",
              "  .colab-df-quickchart-complete:disabled:hover {\n",
              "    background-color: var(--disabled-bg-color);\n",
              "    fill: var(--disabled-fill-color);\n",
              "    box-shadow: none;\n",
              "  }\n",
              "\n",
              "  .colab-df-spinner {\n",
              "    border: 2px solid var(--fill-color);\n",
              "    border-color: transparent;\n",
              "    border-bottom-color: var(--fill-color);\n",
              "    animation:\n",
              "      spin 1s steps(1) infinite;\n",
              "  }\n",
              "\n",
              "  @keyframes spin {\n",
              "    0% {\n",
              "      border-color: transparent;\n",
              "      border-bottom-color: var(--fill-color);\n",
              "      border-left-color: var(--fill-color);\n",
              "    }\n",
              "    20% {\n",
              "      border-color: transparent;\n",
              "      border-left-color: var(--fill-color);\n",
              "      border-top-color: var(--fill-color);\n",
              "    }\n",
              "    30% {\n",
              "      border-color: transparent;\n",
              "      border-left-color: var(--fill-color);\n",
              "      border-top-color: var(--fill-color);\n",
              "      border-right-color: var(--fill-color);\n",
              "    }\n",
              "    40% {\n",
              "      border-color: transparent;\n",
              "      border-right-color: var(--fill-color);\n",
              "      border-top-color: var(--fill-color);\n",
              "    }\n",
              "    60% {\n",
              "      border-color: transparent;\n",
              "      border-right-color: var(--fill-color);\n",
              "    }\n",
              "    80% {\n",
              "      border-color: transparent;\n",
              "      border-right-color: var(--fill-color);\n",
              "      border-bottom-color: var(--fill-color);\n",
              "    }\n",
              "    90% {\n",
              "      border-color: transparent;\n",
              "      border-bottom-color: var(--fill-color);\n",
              "    }\n",
              "  }\n",
              "</style>\n",
              "\n",
              "  <script>\n",
              "    async function quickchart(key) {\n",
              "      const quickchartButtonEl =\n",
              "        document.querySelector('#' + key + ' button');\n",
              "      quickchartButtonEl.disabled = true;  // To prevent multiple clicks.\n",
              "      quickchartButtonEl.classList.add('colab-df-spinner');\n",
              "      try {\n",
              "        const charts = await google.colab.kernel.invokeFunction(\n",
              "            'suggestCharts', [key], {});\n",
              "      } catch (error) {\n",
              "        console.error('Error during call to suggestCharts:', error);\n",
              "      }\n",
              "      quickchartButtonEl.classList.remove('colab-df-spinner');\n",
              "      quickchartButtonEl.classList.add('colab-df-quickchart-complete');\n",
              "    }\n",
              "    (() => {\n",
              "      let quickchartButtonEl =\n",
              "        document.querySelector('#df-ee157694-c308-4b3a-97c6-9060857a35df button');\n",
              "      quickchartButtonEl.style.display =\n",
              "        google.colab.kernel.accessAllowed ? 'block' : 'none';\n",
              "    })();\n",
              "  </script>\n",
              "</div>\n",
              "    </div>\n",
              "  </div>\n"
            ],
            "application/vnd.google.colaboratory.intrinsic+json": {
              "type": "dataframe",
              "variable_name": "df",
              "summary": "{\n  \"name\": \"df\",\n  \"rows\": 17604,\n  \"fields\": [\n    {\n      \"column\": \"user_id\",\n      \"properties\": {\n        \"dtype\": \"number\",\n        \"std\": 81731,\n        \"min\": 172,\n        \"max\": 283195,\n        \"num_unique_values\": 5667,\n        \"samples\": [\n          236287,\n          217639,\n          248726\n        ],\n        \"semantic_type\": \"\",\n        \"description\": \"\"\n      }\n    },\n    {\n      \"column\": \"movie_id\",\n      \"properties\": {\n        \"dtype\": \"number\",\n        \"std\": 51285,\n        \"min\": 139,\n        \"max\": 193843,\n        \"num_unique_values\": 779,\n        \"samples\": [\n          146184,\n          135791,\n          141201\n        ],\n        \"semantic_type\": \"\",\n        \"description\": \"\"\n      }\n    },\n    {\n      \"column\": \"rating\",\n      \"properties\": {\n        \"dtype\": \"number\",\n        \"std\": 1.2031443534973898,\n        \"min\": 0.5,\n        \"max\": 5.0,\n        \"num_unique_values\": 10,\n        \"samples\": [\n          1.0,\n          4.0,\n          0.5\n        ],\n        \"semantic_type\": \"\",\n        \"description\": \"\"\n      }\n    },\n    {\n      \"column\": \"timestamp\",\n      \"properties\": {\n        \"dtype\": \"number\",\n        \"std\": 151508281,\n        \"min\": 828222421,\n        \"max\": 1537933852,\n        \"num_unique_values\": 16385,\n        \"samples\": [\n          1461617327,\n          1494358048,\n          1489828939\n        ],\n        \"semantic_type\": \"\",\n        \"description\": \"\"\n      }\n    }\n  ]\n}"
            }
          },
          "metadata": {},
          "execution_count": 1
        }
      ],
      "source": [
        "import pandas as pd\n",
        "\n",
        "df = pd.read_csv(\"https://raw.githubusercontent.com/HalyshAnton/IT-Step-Pyton-AI/main/module7/data/ratings.csv\")\n",
        "\n",
        "df.head()"
      ]
    },
    {
      "cell_type": "code",
      "source": [
        "!pip install -q surprise"
      ],
      "metadata": {
        "id": "B5IDjPS_Ze9U",
        "outputId": "fb6a0362-f37b-409a-8e58-f56e3584d2f9",
        "colab": {
          "base_uri": "https://localhost:8080/"
        }
      },
      "execution_count": 5,
      "outputs": [
        {
          "output_type": "stream",
          "name": "stdout",
          "text": [
            "\u001b[?25l     \u001b[90m━━━━━━━━━━━━━━━━━━━━━━━━━━━━━━━━━━━━━━━━\u001b[0m \u001b[32m0.0/154.4 kB\u001b[0m \u001b[31m?\u001b[0m eta \u001b[36m-:--:--\u001b[0m\r\u001b[2K     \u001b[91m━━━━━━━━━━━━━━━━━━━━━━━\u001b[0m\u001b[91m╸\u001b[0m\u001b[90m━━━━━━━━━━━━━━━━\u001b[0m \u001b[32m92.2/154.4 kB\u001b[0m \u001b[31m2.5 MB/s\u001b[0m eta \u001b[36m0:00:01\u001b[0m\r\u001b[2K     \u001b[90m━━━━━━━━━━━━━━━━━━━━━━━━━━━━━━━━━━━━━━━━\u001b[0m \u001b[32m154.4/154.4 kB\u001b[0m \u001b[31m2.9 MB/s\u001b[0m eta \u001b[36m0:00:00\u001b[0m\n",
            "\u001b[?25h  Installing build dependencies ... \u001b[?25l\u001b[?25hdone\n",
            "  Getting requirements to build wheel ... \u001b[?25l\u001b[?25hdone\n",
            "  Preparing metadata (pyproject.toml) ... \u001b[?25l\u001b[?25hdone\n",
            "  Building wheel for scikit-surprise (pyproject.toml) ... \u001b[?25l\u001b[?25hdone\n"
          ]
        }
      ]
    },
    {
      "cell_type": "code",
      "source": [
        "from surprise import Dataset, SVD, Reader\n",
        "\n",
        "reader = Reader(rating_scale=(0.1, 4))\n",
        "\n",
        "data = Dataset.load_from_df(df[[\"user_id\", \"movie_id\", \"rating\"]], reader)\n",
        "data"
      ],
      "metadata": {
        "id": "DdDVpo3f0jid",
        "outputId": "b2e06106-9ffb-4bf9-e576-71ea28894c5d",
        "colab": {
          "base_uri": "https://localhost:8080/"
        }
      },
      "execution_count": 6,
      "outputs": [
        {
          "output_type": "execute_result",
          "data": {
            "text/plain": [
              "<surprise.dataset.DatasetAutoFolds at 0x7b499dd6cc40>"
            ]
          },
          "metadata": {},
          "execution_count": 6
        }
      ]
    },
    {
      "cell_type": "code",
      "source": [
        "\n",
        "from surprise import Dataset, SVD, Reader\n",
        "\n",
        "reader = Reader(rating_scale=(0.5, 5))\n",
        "\n",
        "data = Dataset.load_from_df(df[[\"user_id\", \"movie_id\", \"rating\"]], reader)\n",
        "data\n"
      ],
      "metadata": {
        "id": "HgWH0vl00pKm",
        "outputId": "bf9ec86a-ce82-4a24-b0b0-ae84fb70093c",
        "colab": {
          "base_uri": "https://localhost:8080/"
        }
      },
      "execution_count": 7,
      "outputs": [
        {
          "output_type": "execute_result",
          "data": {
            "text/plain": [
              "<surprise.dataset.DatasetAutoFolds at 0x7b499df25b10>"
            ]
          },
          "metadata": {},
          "execution_count": 7
        }
      ]
    },
    {
      "cell_type": "code",
      "source": [
        "from surprise.model_selection import train_test_split\n",
        "\n",
        "trainset, testset = train_test_split(data, train_size=0.7)"
      ],
      "metadata": {
        "id": "MN12cjUK1Fsy"
      },
      "execution_count": 8,
      "outputs": []
    },
    {
      "cell_type": "code",
      "source": [
        "from surprise import BaselineOnly\n",
        "\n",
        "bsl_options = {'method': 'als',\n",
        "               'reg_u': 0.002,\n",
        "               'reg_i': 0.002}\n",
        "\n",
        "algo = BaselineOnly(bsl_options=bsl_options)\n",
        "algo.fit(trainset)"
      ],
      "metadata": {
        "id": "Az4b0wla1Hyc",
        "outputId": "63e4aa77-9c12-4004-f15b-653b84cea9d8",
        "colab": {
          "base_uri": "https://localhost:8080/"
        }
      },
      "execution_count": 9,
      "outputs": [
        {
          "output_type": "stream",
          "name": "stdout",
          "text": [
            "Estimating biases using als...\n"
          ]
        },
        {
          "output_type": "execute_result",
          "data": {
            "text/plain": [
              "<surprise.prediction_algorithms.baseline_only.BaselineOnly at 0x7b499df26ef0>"
            ]
          },
          "metadata": {},
          "execution_count": 9
        }
      ]
    },
    {
      "cell_type": "code",
      "source": [
        "from surprise import SVD\n",
        "\n",
        "alfo = SVD(n_factors=100,\n",
        "           n_epochs=60,\n",
        "           )\n",
        "\n",
        "algo.fit(trainset)"
      ],
      "metadata": {
        "id": "MCAyO6lq1Nzx",
        "outputId": "cd69aa49-4e48-4b93-ff33-48329e75d729",
        "colab": {
          "base_uri": "https://localhost:8080/"
        }
      },
      "execution_count": 10,
      "outputs": [
        {
          "output_type": "stream",
          "name": "stdout",
          "text": [
            "Estimating biases using als...\n"
          ]
        },
        {
          "output_type": "execute_result",
          "data": {
            "text/plain": [
              "<surprise.prediction_algorithms.baseline_only.BaselineOnly at 0x7b499df26ef0>"
            ]
          },
          "metadata": {},
          "execution_count": 10
        }
      ]
    },
    {
      "cell_type": "code",
      "source": [
        "from surprise import KNNBasic\n",
        "\n",
        "algo = KNNBasic(k=20,\n",
        "                min_k=1,\n",
        "                sim_options={'name': 'cosine',\n",
        "                             'user_based': True})\n",
        "\n",
        "algo.fit(trainset)"
      ],
      "metadata": {
        "id": "JkdlXhEC1WQm",
        "outputId": "f7b0e6fc-5b81-44d3-b761-cbced36ef689",
        "colab": {
          "base_uri": "https://localhost:8080/"
        }
      },
      "execution_count": 12,
      "outputs": [
        {
          "output_type": "stream",
          "name": "stdout",
          "text": [
            "Computing the cosine similarity matrix...\n",
            "Done computing similarity matrix.\n"
          ]
        },
        {
          "output_type": "execute_result",
          "data": {
            "text/plain": [
              "<surprise.prediction_algorithms.knns.KNNBasic at 0x7b499df264a0>"
            ]
          },
          "metadata": {},
          "execution_count": 12
        }
      ]
    },
    {
      "cell_type": "code",
      "source": [
        "from surprise import CoClustering\n",
        "\n",
        "algo = CoClustering(n_cltr_u = 5,\n",
        "                    n_cltr_i = 15,\n",
        "                    n_epochs = 100)\n",
        "\n",
        "algo.fit(trainset)"
      ],
      "metadata": {
        "id": "PdliKzWn1YqO",
        "outputId": "ebfb2363-ceba-48b7-9361-5a17267dfbbc",
        "colab": {
          "base_uri": "https://localhost:8080/"
        }
      },
      "execution_count": 13,
      "outputs": [
        {
          "output_type": "execute_result",
          "data": {
            "text/plain": [
              "<surprise.prediction_algorithms.co_clustering.CoClustering at 0x7b499df25b70>"
            ]
          },
          "metadata": {},
          "execution_count": 13
        }
      ]
    },
    {
      "cell_type": "code",
      "source": [
        "from surprise import BaselineOnly, accuracy\n",
        "\n",
        "\n",
        "bsl_options = {'method': 'als',\n",
        "               'reg_u': 0.001,\n",
        "               'reg_i': 0.001}\n",
        "\n",
        "algo = BaselineOnly(bsl_options=bsl_options)\n",
        "algo.fit(trainset)\n",
        "\n",
        "preds = algo.test(testset)\n",
        "\n",
        "print(f\"mae = {accuracy.mae(preds, verbose=False)}\")\n",
        "print(f\"mse = {accuracy.mse(preds, verbose=False)}\")\n",
        "print(f\"rmse= {accuracy.rmse(preds, verbose=False)}\")\n",
        "print(f\"fcp = {accuracy.fcp(preds, verbose=False)}\")"
      ],
      "metadata": {
        "id": "aBhaXUqZ1e9j",
        "outputId": "81f5f595-90bc-40d7-dc8f-deb44bcc4355",
        "colab": {
          "base_uri": "https://localhost:8080/"
        }
      },
      "execution_count": 14,
      "outputs": [
        {
          "output_type": "stream",
          "name": "stdout",
          "text": [
            "Estimating biases using als...\n",
            "mae = 0.6729053532678994\n",
            "mse = 0.8513153461017023\n",
            "rmse= 0.9226675165527951\n",
            "fcp = 0.6640999261499558\n"
          ]
        }
      ]
    },
    {
      "cell_type": "code",
      "source": [
        "algo.predict(uid=2, iid=98)"
      ],
      "metadata": {
        "id": "XiPexudR1mVk",
        "outputId": "93bcf7d9-d19b-4497-9422-3b95b8ea5a17",
        "colab": {
          "base_uri": "https://localhost:8080/"
        }
      },
      "execution_count": 15,
      "outputs": [
        {
          "output_type": "execute_result",
          "data": {
            "text/plain": [
              "Prediction(uid=2, iid=98, r_ui=None, est=3.4616945301087485, details={'was_impossible': False})"
            ]
          },
          "metadata": {},
          "execution_count": 15
        }
      ]
    },
    {
      "cell_type": "code",
      "source": [
        "# Model init\n",
        "models = {\n",
        "    \"SVD\": SVD(),\n",
        "    \"BaselineOnly\": BaselineOnly(),\n",
        "    \"KNNBasic\": KNNBasic()\n",
        "}\n",
        "\n",
        "\n",
        "results = {}\n",
        "for model_name, model in models.items():\n",
        "    model.fit(trainset)\n",
        "    predictions = model.test(testset)\n",
        "\n",
        "    rmse = accuracy.rmse(predictions, verbose=False)\n",
        "    mae = accuracy.mae(predictions, verbose=False)\n",
        "\n",
        "    results[model_name] = {\"RMSE\": rmse, \"MAE\": mae}\n",
        "\n",
        "for model_name, metrics in results.items():\n",
        "    print(f\"{model_name}: RMSE = {metrics['RMSE']:.2f}, MAE = {metrics['MAE']:.2f}\")"
      ],
      "metadata": {
        "id": "2eDber391pqO",
        "outputId": "70441c70-34f3-43c4-fffd-026e0567abfd",
        "colab": {
          "base_uri": "https://localhost:8080/"
        }
      },
      "execution_count": 18,
      "outputs": [
        {
          "output_type": "stream",
          "name": "stdout",
          "text": [
            "Estimating biases using als...\n",
            "Computing the msd similarity matrix...\n",
            "Done computing similarity matrix.\n",
            "SVD: RMSE = 0.98, MAE = 0.73\n",
            "BaselineOnly: RMSE = 0.99, MAE = 0.75\n",
            "KNNBasic: RMSE = 1.07, MAE = 0.81\n"
          ]
        }
      ]
    },
    {
      "cell_type": "code",
      "source": [
        "!pip install optuna"
      ],
      "metadata": {
        "id": "J8jLAyNo3Iby",
        "outputId": "6d4ea1ee-a7e6-40fd-9f35-a411fedc6353",
        "colab": {
          "base_uri": "https://localhost:8080/"
        }
      },
      "execution_count": 17,
      "outputs": [
        {
          "output_type": "stream",
          "name": "stdout",
          "text": [
            "Collecting optuna\n",
            "  Downloading optuna-4.1.0-py3-none-any.whl.metadata (16 kB)\n",
            "Collecting alembic>=1.5.0 (from optuna)\n",
            "  Downloading alembic-1.14.0-py3-none-any.whl.metadata (7.4 kB)\n",
            "Collecting colorlog (from optuna)\n",
            "  Downloading colorlog-6.9.0-py3-none-any.whl.metadata (10 kB)\n",
            "Requirement already satisfied: numpy in /usr/local/lib/python3.10/dist-packages (from optuna) (1.26.4)\n",
            "Requirement already satisfied: packaging>=20.0 in /usr/local/lib/python3.10/dist-packages (from optuna) (24.2)\n",
            "Requirement already satisfied: sqlalchemy>=1.4.2 in /usr/local/lib/python3.10/dist-packages (from optuna) (2.0.36)\n",
            "Requirement already satisfied: tqdm in /usr/local/lib/python3.10/dist-packages (from optuna) (4.66.6)\n",
            "Requirement already satisfied: PyYAML in /usr/local/lib/python3.10/dist-packages (from optuna) (6.0.2)\n",
            "Collecting Mako (from alembic>=1.5.0->optuna)\n",
            "  Downloading Mako-1.3.8-py3-none-any.whl.metadata (2.9 kB)\n",
            "Requirement already satisfied: typing-extensions>=4 in /usr/local/lib/python3.10/dist-packages (from alembic>=1.5.0->optuna) (4.12.2)\n",
            "Requirement already satisfied: greenlet!=0.4.17 in /usr/local/lib/python3.10/dist-packages (from sqlalchemy>=1.4.2->optuna) (3.1.1)\n",
            "Requirement already satisfied: MarkupSafe>=0.9.2 in /usr/local/lib/python3.10/dist-packages (from Mako->alembic>=1.5.0->optuna) (3.0.2)\n",
            "Downloading optuna-4.1.0-py3-none-any.whl (364 kB)\n",
            "\u001b[2K   \u001b[90m━━━━━━━━━━━━━━━━━━━━━━━━━━━━━━━━━━━━━━━━\u001b[0m \u001b[32m364.4/364.4 kB\u001b[0m \u001b[31m5.0 MB/s\u001b[0m eta \u001b[36m0:00:00\u001b[0m\n",
            "\u001b[?25hDownloading alembic-1.14.0-py3-none-any.whl (233 kB)\n",
            "\u001b[2K   \u001b[90m━━━━━━━━━━━━━━━━━━━━━━━━━━━━━━━━━━━━━━━━\u001b[0m \u001b[32m233.5/233.5 kB\u001b[0m \u001b[31m5.1 MB/s\u001b[0m eta \u001b[36m0:00:00\u001b[0m\n",
            "\u001b[?25hDownloading colorlog-6.9.0-py3-none-any.whl (11 kB)\n",
            "Downloading Mako-1.3.8-py3-none-any.whl (78 kB)\n",
            "\u001b[2K   \u001b[90m━━━━━━━━━━━━━━━━━━━━━━━━━━━━━━━━━━━━━━━━\u001b[0m \u001b[32m78.6/78.6 kB\u001b[0m \u001b[31m3.5 MB/s\u001b[0m eta \u001b[36m0:00:00\u001b[0m\n",
            "\u001b[?25hInstalling collected packages: Mako, colorlog, alembic, optuna\n",
            "Successfully installed Mako-1.3.8 alembic-1.14.0 colorlog-6.9.0 optuna-4.1.0\n"
          ]
        }
      ]
    },
    {
      "cell_type": "code",
      "source": [
        "import optuna\n",
        "def objective(trial):\n",
        "    # param config\n",
        "    n_factors = trial.suggest_int(\"n_factors\", 20, 200)\n",
        "    n_epochs = trial.suggest_int(\"n_epochs\", 20, 100)\n",
        "    lr_all = trial.suggest_float(\"lr_all\", 0.001, 0.1, log=True)\n",
        "    reg_all = trial.suggest_float(\"reg_all\", 0.01, 0.1, log=True)\n",
        "\n",
        "    # model\n",
        "    model = SVD(n_factors=n_factors, n_epochs=n_epochs, lr_all=lr_all, reg_all=reg_all)\n",
        "\n",
        "    # train and test\n",
        "    model.fit(trainset)\n",
        "    predictions = model.test(testset)\n",
        "\n",
        "    #  RMSE as loss function\n",
        "    return accuracy.rmse(predictions, verbose=False)\n",
        "\n",
        "# Launch Optuna\n",
        "study = optuna.create_study(direction=\"minimize\")\n",
        "study.optimize(objective, n_trials=50)\n",
        "\n",
        "# Best\n",
        "print(\"best params:\")\n",
        "study.best_params"
      ],
      "metadata": {
        "id": "OTR1ZZ913SBZ",
        "outputId": "4760ab67-9789-4d29-807b-b669d63b9794",
        "colab": {
          "base_uri": "https://localhost:8080/"
        }
      },
      "execution_count": 19,
      "outputs": [
        {
          "output_type": "stream",
          "name": "stderr",
          "text": [
            "[I 2024-12-15 01:11:31,378] A new study created in memory with name: no-name-73d7cc59-7401-402a-b731-019e3a5d6fa1\n",
            "[I 2024-12-15 01:11:31,965] Trial 0 finished with value: 0.9407399549532702 and parameters: {'n_factors': 69, 'n_epochs': 63, 'lr_all': 0.006361936223481266, 'reg_all': 0.048141644758913416}. Best is trial 0 with value: 0.9407399549532702.\n",
            "[I 2024-12-15 01:11:32,367] Trial 1 finished with value: 0.9339209356718089 and parameters: {'n_factors': 43, 'n_epochs': 52, 'lr_all': 0.006108049228901128, 'reg_all': 0.039310858496186686}. Best is trial 1 with value: 0.9339209356718089.\n",
            "[I 2024-12-15 01:11:33,222] Trial 2 finished with value: 0.9276858143136345 and parameters: {'n_factors': 98, 'n_epochs': 77, 'lr_all': 0.005633128180009679, 'reg_all': 0.0791438369425874}. Best is trial 2 with value: 0.9276858143136345.\n",
            "[I 2024-12-15 01:11:33,507] Trial 3 finished with value: 0.9473388559633688 and parameters: {'n_factors': 45, 'n_epochs': 38, 'lr_all': 0.010845391891418426, 'reg_all': 0.01876941031606662}. Best is trial 2 with value: 0.9276858143136345.\n",
            "[I 2024-12-15 01:11:34,213] Trial 4 finished with value: 0.950217820596329 and parameters: {'n_factors': 159, 'n_epochs': 46, 'lr_all': 0.004076919749621367, 'reg_all': 0.07850407321482318}. Best is trial 2 with value: 0.9276858143136345.\n",
            "[I 2024-12-15 01:11:34,996] Trial 5 finished with value: 0.9948164712109602 and parameters: {'n_factors': 198, 'n_epochs': 45, 'lr_all': 0.0014578904527395267, 'reg_all': 0.03184122049758402}. Best is trial 2 with value: 0.9276858143136345.\n",
            "[I 2024-12-15 01:11:35,532] Trial 6 finished with value: 0.9957316716925058 and parameters: {'n_factors': 96, 'n_epochs': 47, 'lr_all': 0.0012232448384844308, 'reg_all': 0.06281515492796876}. Best is trial 2 with value: 0.9276858143136345.\n",
            "[I 2024-12-15 01:11:35,993] Trial 7 finished with value: 0.9619829786122851 and parameters: {'n_factors': 54, 'n_epochs': 53, 'lr_all': 0.0020775175052400482, 'reg_all': 0.09277161053612167}. Best is trial 2 with value: 0.9276858143136345.\n",
            "[I 2024-12-15 01:11:37,092] Trial 8 finished with value: 0.9255276557617338 and parameters: {'n_factors': 170, 'n_epochs': 72, 'lr_all': 0.0507978876510373, 'reg_all': 0.08531981395197358}. Best is trial 8 with value: 0.9255276557617338.\n",
            "[I 2024-12-15 01:11:37,844] Trial 9 finished with value: 0.9375871055306714 and parameters: {'n_factors': 116, 'n_epochs': 62, 'lr_all': 0.03160063147107888, 'reg_all': 0.021459157460461353}. Best is trial 8 with value: 0.9255276557617338.\n",
            "[I 2024-12-15 01:11:39,269] Trial 10 finished with value: 0.939608008093942 and parameters: {'n_factors': 158, 'n_epochs': 97, 'lr_all': 0.08456810690245288, 'reg_all': 0.011305847584704754}. Best is trial 8 with value: 0.9255276557617338.\n",
            "[I 2024-12-15 01:11:40,832] Trial 11 finished with value: 0.9189810701558854 and parameters: {'n_factors': 125, 'n_epochs': 81, 'lr_all': 0.022812263042526208, 'reg_all': 0.09978842842397392}. Best is trial 11 with value: 0.9189810701558854.\n",
            "[I 2024-12-15 01:11:41,365] Trial 12 finished with value: 0.9311598652965496 and parameters: {'n_factors': 146, 'n_epochs': 20, 'lr_all': 0.031844608126693257, 'reg_all': 0.05723635093122211}. Best is trial 11 with value: 0.9189810701558854.\n",
            "[I 2024-12-15 01:11:43,124] Trial 13 finished with value: 0.9213299974676241 and parameters: {'n_factors': 193, 'n_epochs': 82, 'lr_all': 0.026105351208881983, 'reg_all': 0.09959112101738478}. Best is trial 11 with value: 0.9189810701558854.\n",
            "[I 2024-12-15 01:11:44,760] Trial 14 finished with value: 0.9216185032586182 and parameters: {'n_factors': 195, 'n_epochs': 90, 'lr_all': 0.017048646551021607, 'reg_all': 0.09818824906363632}. Best is trial 11 with value: 0.9189810701558854.\n",
            "[I 2024-12-15 01:11:45,844] Trial 15 finished with value: 0.9249864240563951 and parameters: {'n_factors': 130, 'n_epochs': 83, 'lr_all': 0.018334821660693834, 'reg_all': 0.05992905085332164}. Best is trial 11 with value: 0.9189810701558854.\n",
            "[I 2024-12-15 01:11:46,800] Trial 16 finished with value: 0.9349063710879997 and parameters: {'n_factors': 80, 'n_epochs': 100, 'lr_all': 0.018211697142124502, 'reg_all': 0.025488539258173078}. Best is trial 11 with value: 0.9189810701558854.\n",
            "[I 2024-12-15 01:11:47,735] Trial 17 finished with value: 0.9344128108474445 and parameters: {'n_factors': 128, 'n_epochs': 73, 'lr_all': 0.08836485819373577, 'reg_all': 0.042955641306400734}. Best is trial 11 with value: 0.9189810701558854.\n",
            "[I 2024-12-15 01:11:49,070] Trial 18 finished with value: 0.9257106437108553 and parameters: {'n_factors': 181, 'n_epochs': 86, 'lr_all': 0.03795488154773691, 'reg_all': 0.0698851132135538}. Best is trial 11 with value: 0.9189810701558854.\n",
            "[I 2024-12-15 01:11:50,023] Trial 19 finished with value: 0.9627788970882424 and parameters: {'n_factors': 144, 'n_epochs': 69, 'lr_all': 0.010550644182693287, 'reg_all': 0.0117080116301323}. Best is trial 11 with value: 0.9189810701558854.\n",
            "[I 2024-12-15 01:11:50,583] Trial 20 finished with value: 0.9568920739092016 and parameters: {'n_factors': 29, 'n_epochs': 81, 'lr_all': 0.054665729305541165, 'reg_all': 0.01578945704318292}. Best is trial 11 with value: 0.9189810701558854.\n",
            "[I 2024-12-15 01:11:52,065] Trial 21 finished with value: 0.9230359499455592 and parameters: {'n_factors': 197, 'n_epochs': 90, 'lr_all': 0.018580731371063943, 'reg_all': 0.09687786229327779}. Best is trial 11 with value: 0.9189810701558854.\n",
            "[I 2024-12-15 01:11:54,229] Trial 22 finished with value: 0.9209445683769071 and parameters: {'n_factors': 182, 'n_epochs': 93, 'lr_all': 0.021239638309307456, 'reg_all': 0.09865414888493443}. Best is trial 11 with value: 0.9189810701558854.\n",
            "[I 2024-12-15 01:11:56,145] Trial 23 finished with value: 0.9217875401493026 and parameters: {'n_factors': 178, 'n_epochs': 92, 'lr_all': 0.02782186082501162, 'reg_all': 0.070742057374976}. Best is trial 11 with value: 0.9189810701558854.\n",
            "[I 2024-12-15 01:11:57,398] Trial 24 finished with value: 0.9217083834149197 and parameters: {'n_factors': 178, 'n_epochs': 79, 'lr_all': 0.012727629323757888, 'reg_all': 0.097812307245098}. Best is trial 11 with value: 0.9189810701558854.\n",
            "[I 2024-12-15 01:11:58,760] Trial 25 finished with value: 0.9306228397523398 and parameters: {'n_factors': 159, 'n_epochs': 94, 'lr_all': 0.04902587982918479, 'reg_all': 0.05024234349811516}. Best is trial 11 with value: 0.9189810701558854.\n",
            "[I 2024-12-15 01:11:59,935] Trial 26 finished with value: 0.922029676558744 and parameters: {'n_factors': 141, 'n_epochs': 86, 'lr_all': 0.023408608884220642, 'reg_all': 0.07750707424939332}. Best is trial 11 with value: 0.9189810701558854.\n",
            "[I 2024-12-15 01:12:01,043] Trial 27 finished with value: 0.932621271642679 and parameters: {'n_factors': 187, 'n_epochs': 68, 'lr_all': 0.008100899131653603, 'reg_all': 0.06720444651497923}. Best is trial 11 with value: 0.9189810701558854.\n",
            "[I 2024-12-15 01:12:02,200] Trial 28 finished with value: 0.9399563568468104 and parameters: {'n_factors': 167, 'n_epochs': 76, 'lr_all': 0.014411595275641231, 'reg_all': 0.033962606376357854}. Best is trial 11 with value: 0.9189810701558854.\n",
            "[I 2024-12-15 01:12:02,816] Trial 29 finished with value: 0.9326811263510302 and parameters: {'n_factors': 75, 'n_epochs': 64, 'lr_all': 0.06817497935462809, 'reg_all': 0.052131375082874}. Best is trial 11 with value: 0.9189810701558854.\n",
            "[I 2024-12-15 01:12:03,788] Trial 30 finished with value: 0.9311180660789239 and parameters: {'n_factors': 102, 'n_epochs': 86, 'lr_all': 0.024493561383890108, 'reg_all': 0.04320651435085758}. Best is trial 11 with value: 0.9189810701558854.\n",
            "[I 2024-12-15 01:12:05,590] Trial 31 finished with value: 0.9207981502700878 and parameters: {'n_factors': 199, 'n_epochs': 90, 'lr_all': 0.01570746638558679, 'reg_all': 0.08718748067983668}. Best is trial 11 with value: 0.9189810701558854.\n",
            "[I 2024-12-15 01:12:08,662] Trial 32 finished with value: 0.9295841468661239 and parameters: {'n_factors': 199, 'n_epochs': 100, 'lr_all': 0.008374574521008168, 'reg_all': 0.08617104521467986}. Best is trial 11 with value: 0.9189810701558854.\n",
            "[I 2024-12-15 01:12:10,165] Trial 33 finished with value: 0.9257704206803683 and parameters: {'n_factors': 186, 'n_epochs': 94, 'lr_all': 0.037498224542257985, 'reg_all': 0.0807507528518246}. Best is trial 11 with value: 0.9189810701558854.\n",
            "[I 2024-12-15 01:12:11,451] Trial 34 finished with value: 0.9308121861068704 and parameters: {'n_factors': 169, 'n_epochs': 83, 'lr_all': 0.004671052985070357, 'reg_all': 0.0993607524024653}. Best is trial 11 with value: 0.9189810701558854.\n",
            "[I 2024-12-15 01:12:12,783] Trial 35 finished with value: 0.9262254702983957 and parameters: {'n_factors': 189, 'n_epochs': 76, 'lr_all': 0.013768163292071027, 'reg_all': 0.07373425202817922}. Best is trial 11 with value: 0.9189810701558854.\n",
            "[I 2024-12-15 01:12:14,355] Trial 36 finished with value: 0.91987475506999 and parameters: {'n_factors': 115, 'n_epochs': 89, 'lr_all': 0.021572378665274516, 'reg_all': 0.08502704380771656}. Best is trial 11 with value: 0.9189810701558854.\n",
            "[I 2024-12-15 01:12:15,417] Trial 37 finished with value: 0.9287844439490227 and parameters: {'n_factors': 90, 'n_epochs': 89, 'lr_all': 0.007341225805387499, 'reg_all': 0.05657347542098769}. Best is trial 11 with value: 0.9189810701558854.\n",
            "[I 2024-12-15 01:12:16,809] Trial 38 finished with value: 0.939381775521773 and parameters: {'n_factors': 118, 'n_epochs': 97, 'lr_all': 0.002509158273281009, 'reg_all': 0.08344082959434268}. Best is trial 11 with value: 0.9189810701558854.\n",
            "[I 2024-12-15 01:12:17,700] Trial 39 finished with value: 0.9230837555876775 and parameters: {'n_factors': 108, 'n_epochs': 54, 'lr_all': 0.021273667256770157, 'reg_all': 0.06490234268025256}. Best is trial 11 with value: 0.9189810701558854.\n",
            "[I 2024-12-15 01:12:17,999] Trial 40 finished with value: 0.9277514354707896 and parameters: {'n_factors': 53, 'n_epochs': 32, 'lr_all': 0.01112355426617892, 'reg_all': 0.08507907538354575}. Best is trial 11 with value: 0.9189810701558854.\n",
            "[I 2024-12-15 01:12:19,531] Trial 41 finished with value: 0.9226698144637758 and parameters: {'n_factors': 128, 'n_epochs': 86, 'lr_all': 0.036850514721851156, 'reg_all': 0.08864315309794317}. Best is trial 11 with value: 0.9189810701558854.\n",
            "[I 2024-12-15 01:12:22,221] Trial 42 finished with value: 0.9210941143754976 and parameters: {'n_factors': 87, 'n_epochs': 80, 'lr_all': 0.026673242927771495, 'reg_all': 0.07558783656313878}. Best is trial 11 with value: 0.9189810701558854.\n",
            "[I 2024-12-15 01:12:23,531] Trial 43 finished with value: 0.9226916884267923 and parameters: {'n_factors': 89, 'n_epochs': 96, 'lr_all': 0.01516048291608571, 'reg_all': 0.07537355828033206}. Best is trial 11 with value: 0.9189810701558854.\n",
            "[I 2024-12-15 01:12:24,335] Trial 44 finished with value: 0.9253227256493455 and parameters: {'n_factors': 65, 'n_epochs': 79, 'lr_all': 0.04572086203040333, 'reg_all': 0.06313771671573586}. Best is trial 11 with value: 0.9189810701558854.\n",
            "[I 2024-12-15 01:12:25,284] Trial 45 finished with value: 0.9218215799402593 and parameters: {'n_factors': 115, 'n_epochs': 73, 'lr_all': 0.03008937458718607, 'reg_all': 0.08890655410419238}. Best is trial 11 with value: 0.9189810701558854.\n",
            "[I 2024-12-15 01:12:26,568] Trial 46 finished with value: 0.924908912470278 and parameters: {'n_factors': 103, 'n_epochs': 57, 'lr_all': 0.022254435068181453, 'reg_all': 0.07698687699408888}. Best is trial 11 with value: 0.9189810701558854.\n",
            "[I 2024-12-15 01:12:28,959] Trial 47 finished with value: 0.9299658900008635 and parameters: {'n_factors': 151, 'n_epochs': 89, 'lr_all': 0.011943938634313069, 'reg_all': 0.05527735483247485}. Best is trial 11 with value: 0.9189810701558854.\n",
            "[I 2024-12-15 01:12:29,946] Trial 48 finished with value: 0.9272741059932089 and parameters: {'n_factors': 86, 'n_epochs': 92, 'lr_all': 0.019980805522554625, 'reg_all': 0.04522179774039627}. Best is trial 11 with value: 0.9189810701558854.\n",
            "[I 2024-12-15 01:12:30,745] Trial 49 finished with value: 0.9434811376316029 and parameters: {'n_factors': 74, 'n_epochs': 84, 'lr_all': 0.01597958355906522, 'reg_all': 0.02449973958601682}. Best is trial 11 with value: 0.9189810701558854.\n"
          ]
        },
        {
          "output_type": "stream",
          "name": "stdout",
          "text": [
            "best params:\n"
          ]
        },
        {
          "output_type": "execute_result",
          "data": {
            "text/plain": [
              "{'n_factors': 125,\n",
              " 'n_epochs': 81,\n",
              " 'lr_all': 0.022812263042526208,\n",
              " 'reg_all': 0.09978842842397392}"
            ]
          },
          "metadata": {},
          "execution_count": 19
        }
      ]
    },
    {
      "cell_type": "code",
      "source": [
        "# Use better params\n",
        "best_params = study.best_params\n",
        "best_model = SVD(**best_params)\n",
        "\n",
        "best_model.fit(trainset)\n",
        "best_predictions = best_model.test(testset)\n",
        "\n",
        "# estimation\n",
        "final_rmse = accuracy.rmse(best_predictions)\n",
        "final_mae = accuracy.mae(best_predictions)\n",
        "\n",
        "print(f\" RMSE: {final_rmse:.4f}\")\n",
        "print(f\" MAE: {final_mae:.4f}\")"
      ],
      "metadata": {
        "id": "yxF0Kpcw31jG",
        "outputId": "5df12462-cfff-4a6d-de5e-8d038587e7d2",
        "colab": {
          "base_uri": "https://localhost:8080/"
        }
      },
      "execution_count": 20,
      "outputs": [
        {
          "output_type": "stream",
          "name": "stdout",
          "text": [
            "RMSE: 0.9216\n",
            "MAE:  0.6926\n",
            " RMSE: 0.9216\n",
            " MAE: 0.6926\n"
          ]
        }
      ]
    }
  ]
}