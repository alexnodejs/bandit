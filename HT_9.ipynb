{
 "cells": [
  {
   "cell_type": "code",
   "execution_count": 1,
   "id": "69155aca",
   "metadata": {
    "_cell_guid": "b1076dfc-b9ad-4769-8c92-a6c4dae69d19",
    "_uuid": "8f2839f25d086af736a60e9eeb907d3b93b6e0e5",
    "execution": {
     "iopub.execute_input": "2024-12-08T23:15:16.050792Z",
     "iopub.status.busy": "2024-12-08T23:15:16.050350Z",
     "iopub.status.idle": "2024-12-08T23:15:19.674847Z",
     "shell.execute_reply": "2024-12-08T23:15:19.673834Z"
    },
    "papermill": {
     "duration": 3.630836,
     "end_time": "2024-12-08T23:15:19.677340",
     "exception": false,
     "start_time": "2024-12-08T23:15:16.046504",
     "status": "completed"
    },
    "tags": []
   },
   "outputs": [],
   "source": [
    "import pandas as pd\n",
    "import numpy as np\n",
    "from sklearn.model_selection import train_test_split\n",
    "from sklearn.pipeline import Pipeline\n",
    "from sklearn.impute import SimpleImputer\n",
    "from sklearn.preprocessing import OrdinalEncoder\n",
    "from sklearn.compose import ColumnTransformer\n",
    "import lightgbm as lgb\n",
    "from sklearn import metrics\n",
    "import joblib\n",
    "from sklearn import metrics"
   ]
  },
  {
   "cell_type": "code",
   "execution_count": 2,
   "id": "99fc2bfb",
   "metadata": {
    "execution": {
     "iopub.execute_input": "2024-12-08T23:15:19.683510Z",
     "iopub.status.busy": "2024-12-08T23:15:19.682947Z",
     "iopub.status.idle": "2024-12-08T23:15:21.574020Z",
     "shell.execute_reply": "2024-12-08T23:15:21.572909Z"
    },
    "papermill": {
     "duration": 1.896816,
     "end_time": "2024-12-08T23:15:21.576472",
     "exception": false,
     "start_time": "2024-12-08T23:15:19.679656",
     "status": "completed"
    },
    "tags": []
   },
   "outputs": [
    {
     "data": {
      "text/html": [
       "<div>\n",
       "<style scoped>\n",
       "    .dataframe tbody tr th:only-of-type {\n",
       "        vertical-align: middle;\n",
       "    }\n",
       "\n",
       "    .dataframe tbody tr th {\n",
       "        vertical-align: top;\n",
       "    }\n",
       "\n",
       "    .dataframe thead th {\n",
       "        text-align: right;\n",
       "    }\n",
       "</style>\n",
       "<table border=\"1\" class=\"dataframe\">\n",
       "  <thead>\n",
       "    <tr style=\"text-align: right;\">\n",
       "      <th></th>\n",
       "      <th>time</th>\n",
       "      <th>radiant_roshankill</th>\n",
       "      <th>radiant_Δroshankill</th>\n",
       "      <th>dire_roshankill</th>\n",
       "      <th>dire_Δroshankill</th>\n",
       "      <th>good_tower1</th>\n",
       "      <th>good_tower2</th>\n",
       "      <th>good_tower3</th>\n",
       "      <th>good_melee</th>\n",
       "      <th>good_range</th>\n",
       "      <th>...</th>\n",
       "      <th>radiant_buyback</th>\n",
       "      <th>dire_buyback</th>\n",
       "      <th>radiant_Δrunes</th>\n",
       "      <th>dire_Δrunes</th>\n",
       "      <th>radiant_runes</th>\n",
       "      <th>dire_runes</th>\n",
       "      <th>radiant_aegis</th>\n",
       "      <th>dire_aegis</th>\n",
       "      <th>radiantΔaegis</th>\n",
       "      <th>direΔaegis</th>\n",
       "    </tr>\n",
       "  </thead>\n",
       "  <tbody>\n",
       "    <tr>\n",
       "      <th>0</th>\n",
       "      <td>0</td>\n",
       "      <td>0</td>\n",
       "      <td>0</td>\n",
       "      <td>0</td>\n",
       "      <td>0</td>\n",
       "      <td>3</td>\n",
       "      <td>3</td>\n",
       "      <td>3</td>\n",
       "      <td>3</td>\n",
       "      <td>3</td>\n",
       "      <td>...</td>\n",
       "      <td>0</td>\n",
       "      <td>0</td>\n",
       "      <td>1</td>\n",
       "      <td>1</td>\n",
       "      <td>1</td>\n",
       "      <td>1</td>\n",
       "      <td>0</td>\n",
       "      <td>0</td>\n",
       "      <td>0</td>\n",
       "      <td>0</td>\n",
       "    </tr>\n",
       "    <tr>\n",
       "      <th>1</th>\n",
       "      <td>60</td>\n",
       "      <td>0</td>\n",
       "      <td>0</td>\n",
       "      <td>0</td>\n",
       "      <td>0</td>\n",
       "      <td>3</td>\n",
       "      <td>3</td>\n",
       "      <td>3</td>\n",
       "      <td>3</td>\n",
       "      <td>3</td>\n",
       "      <td>...</td>\n",
       "      <td>0</td>\n",
       "      <td>0</td>\n",
       "      <td>1</td>\n",
       "      <td>1</td>\n",
       "      <td>2</td>\n",
       "      <td>2</td>\n",
       "      <td>0</td>\n",
       "      <td>0</td>\n",
       "      <td>0</td>\n",
       "      <td>0</td>\n",
       "    </tr>\n",
       "    <tr>\n",
       "      <th>2</th>\n",
       "      <td>120</td>\n",
       "      <td>0</td>\n",
       "      <td>0</td>\n",
       "      <td>0</td>\n",
       "      <td>0</td>\n",
       "      <td>3</td>\n",
       "      <td>3</td>\n",
       "      <td>3</td>\n",
       "      <td>3</td>\n",
       "      <td>3</td>\n",
       "      <td>...</td>\n",
       "      <td>0</td>\n",
       "      <td>0</td>\n",
       "      <td>0</td>\n",
       "      <td>0</td>\n",
       "      <td>2</td>\n",
       "      <td>2</td>\n",
       "      <td>0</td>\n",
       "      <td>0</td>\n",
       "      <td>0</td>\n",
       "      <td>0</td>\n",
       "    </tr>\n",
       "    <tr>\n",
       "      <th>3</th>\n",
       "      <td>180</td>\n",
       "      <td>0</td>\n",
       "      <td>0</td>\n",
       "      <td>0</td>\n",
       "      <td>0</td>\n",
       "      <td>3</td>\n",
       "      <td>3</td>\n",
       "      <td>3</td>\n",
       "      <td>3</td>\n",
       "      <td>3</td>\n",
       "      <td>...</td>\n",
       "      <td>0</td>\n",
       "      <td>0</td>\n",
       "      <td>0</td>\n",
       "      <td>0</td>\n",
       "      <td>2</td>\n",
       "      <td>2</td>\n",
       "      <td>0</td>\n",
       "      <td>0</td>\n",
       "      <td>0</td>\n",
       "      <td>0</td>\n",
       "    </tr>\n",
       "    <tr>\n",
       "      <th>4</th>\n",
       "      <td>240</td>\n",
       "      <td>0</td>\n",
       "      <td>0</td>\n",
       "      <td>0</td>\n",
       "      <td>0</td>\n",
       "      <td>3</td>\n",
       "      <td>3</td>\n",
       "      <td>3</td>\n",
       "      <td>3</td>\n",
       "      <td>3</td>\n",
       "      <td>...</td>\n",
       "      <td>0</td>\n",
       "      <td>0</td>\n",
       "      <td>0</td>\n",
       "      <td>0</td>\n",
       "      <td>2</td>\n",
       "      <td>2</td>\n",
       "      <td>0</td>\n",
       "      <td>0</td>\n",
       "      <td>0</td>\n",
       "      <td>0</td>\n",
       "    </tr>\n",
       "  </tbody>\n",
       "</table>\n",
       "<p>5 rows × 83 columns</p>\n",
       "</div>"
      ],
      "text/plain": [
       "   time  radiant_roshankill  radiant_Δroshankill  dire_roshankill  \\\n",
       "0     0                   0                    0                0   \n",
       "1    60                   0                    0                0   \n",
       "2   120                   0                    0                0   \n",
       "3   180                   0                    0                0   \n",
       "4   240                   0                    0                0   \n",
       "\n",
       "   dire_Δroshankill  good_tower1  good_tower2  good_tower3  good_melee  \\\n",
       "0                 0            3            3            3           3   \n",
       "1                 0            3            3            3           3   \n",
       "2                 0            3            3            3           3   \n",
       "3                 0            3            3            3           3   \n",
       "4                 0            3            3            3           3   \n",
       "\n",
       "   good_range  ...  radiant_buyback  dire_buyback  radiant_Δrunes  \\\n",
       "0           3  ...                0             0               1   \n",
       "1           3  ...                0             0               1   \n",
       "2           3  ...                0             0               0   \n",
       "3           3  ...                0             0               0   \n",
       "4           3  ...                0             0               0   \n",
       "\n",
       "   dire_Δrunes  radiant_runes  dire_runes  radiant_aegis  dire_aegis  \\\n",
       "0            1              1           1              0           0   \n",
       "1            1              2           2              0           0   \n",
       "2            0              2           2              0           0   \n",
       "3            0              2           2              0           0   \n",
       "4            0              2           2              0           0   \n",
       "\n",
       "   radiantΔaegis  direΔaegis  \n",
       "0              0           0  \n",
       "1              0           0  \n",
       "2              0           0  \n",
       "3              0           0  \n",
       "4              0           0  \n",
       "\n",
       "[5 rows x 83 columns]"
      ]
     },
     "execution_count": 2,
     "metadata": {},
     "output_type": "execute_result"
    }
   ],
   "source": [
    "df = pd.read_csv(\"/kaggle/input/small-nice-data-dota2/small_nice_data.csv\",\n",
    "                 index_col=0)\n",
    "df.head()"
   ]
  },
  {
   "cell_type": "code",
   "execution_count": 3,
   "id": "d45b3110",
   "metadata": {
    "execution": {
     "iopub.execute_input": "2024-12-08T23:15:21.583048Z",
     "iopub.status.busy": "2024-12-08T23:15:21.582611Z",
     "iopub.status.idle": "2024-12-08T23:15:21.737517Z",
     "shell.execute_reply": "2024-12-08T23:15:21.736510Z"
    },
    "papermill": {
     "duration": 0.160746,
     "end_time": "2024-12-08T23:15:21.739934",
     "exception": false,
     "start_time": "2024-12-08T23:15:21.579188",
     "status": "completed"
    },
    "tags": []
   },
   "outputs": [],
   "source": [
    "y = df['time']\n",
    "X = df.drop(columns='time')\n",
    "\n",
    "X_train, X_test, y_train, y_test = train_test_split(X, y,\n",
    "                                                    train_size=0.7,\n",
    "                                                    random_state=42)"
   ]
  },
  {
   "cell_type": "code",
   "execution_count": 4,
   "id": "8ab8b5f5",
   "metadata": {
    "execution": {
     "iopub.execute_input": "2024-12-08T23:15:21.746447Z",
     "iopub.status.busy": "2024-12-08T23:15:21.746086Z",
     "iopub.status.idle": "2024-12-08T23:15:21.753568Z",
     "shell.execute_reply": "2024-12-08T23:15:21.752472Z"
    },
    "papermill": {
     "duration": 0.013653,
     "end_time": "2024-12-08T23:15:21.755999",
     "exception": false,
     "start_time": "2024-12-08T23:15:21.742346",
     "status": "completed"
    },
    "tags": []
   },
   "outputs": [
    {
     "data": {
      "text/plain": [
       "((115009, 82), (49291, 82))"
      ]
     },
     "execution_count": 4,
     "metadata": {},
     "output_type": "execute_result"
    }
   ],
   "source": [
    "X_train.shape, X_test.shape"
   ]
  }
 ],
 "metadata": {
  "kaggle": {
   "accelerator": "none",
   "dataSources": [
    {
     "datasetId": 1202763,
     "sourceId": 2011027,
     "sourceType": "datasetVersion"
    }
   ],
   "dockerImageVersionId": 30804,
   "isGpuEnabled": false,
   "isInternetEnabled": false,
   "language": "python",
   "sourceType": "notebook"
  },
  "kernelspec": {
   "display_name": "Python 3",
   "language": "python",
   "name": "python3"
  },
  "language_info": {
   "codemirror_mode": {
    "name": "ipython",
    "version": 3
   },
   "file_extension": ".py",
   "mimetype": "text/x-python",
   "name": "python",
   "nbconvert_exporter": "python",
   "pygments_lexer": "ipython3",
   "version": "3.10.14"
  },
  "papermill": {
   "default_parameters": {},
   "duration": 9.297139,
   "end_time": "2024-12-08T23:15:22.582679",
   "environment_variables": {},
   "exception": null,
   "input_path": "__notebook__.ipynb",
   "output_path": "__notebook__.ipynb",
   "parameters": {},
   "start_time": "2024-12-08T23:15:13.285540",
   "version": "2.6.0"
  }
 },
 "nbformat": 4,
 "nbformat_minor": 5
}
